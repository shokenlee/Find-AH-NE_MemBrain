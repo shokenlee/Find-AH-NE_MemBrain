{
 "cells": [
  {
   "cell_type": "code",
   "execution_count": 1,
   "id": "7431c824-0f89-471a-9a66-8fe8a4d37e49",
   "metadata": {},
   "outputs": [],
   "source": [
    "import os\n",
    "import pandas as pd"
   ]
  },
  {
   "cell_type": "markdown",
   "id": "c94d78f7-077c-41ea-99fa-c70a9eb86383",
   "metadata": {},
   "source": [
    "## 1. Data import"
   ]
  },
  {
   "cell_type": "code",
   "execution_count": 79,
   "id": "51f78346-1990-451d-8199-7468c9241d60",
   "metadata": {},
   "outputs": [],
   "source": [
    "df_MB_full = pd.read_csv('./IntermediateProducts/Result_ALL.csv') # just in case. Maybe too heavy with little benefit\n",
    "\n",
    "df_MB_select_org = pd.read_csv('./IntermediateProducts/Result_Selected_Organisms.csv') # main target of the NLS search\n",
    "\n",
    "\n",
    "df_NLSdb = pd.read_csv('./SourceData/NLSdb/signals.csv') # contains list of NLS from NLSdb"
   ]
  },
  {
   "cell_type": "code",
   "execution_count": 80,
   "id": "28d1dd63-7431-42d9-a1ec-02b253d46cae",
   "metadata": {},
   "outputs": [
    {
     "data": {
      "text/html": [
       "<div>\n",
       "<style scoped>\n",
       "    .dataframe tbody tr th:only-of-type {\n",
       "        vertical-align: middle;\n",
       "    }\n",
       "\n",
       "    .dataframe tbody tr th {\n",
       "        vertical-align: top;\n",
       "    }\n",
       "\n",
       "    .dataframe thead th {\n",
       "        text-align: right;\n",
       "    }\n",
       "</style>\n",
       "<table border=\"1\" class=\"dataframe\">\n",
       "  <thead>\n",
       "    <tr style=\"text-align: right;\">\n",
       "      <th></th>\n",
       "      <th>ID</th>\n",
       "      <th>Sequence</th>\n",
       "      <th>SignalType</th>\n",
       "      <th>AnnotationType</th>\n",
       "      <th>ConfidenceNuc</th>\n",
       "      <th>ConfidenceFam</th>\n",
       "      <th>Origin</th>\n",
       "      <th>Added</th>\n",
       "      <th>Modified</th>\n",
       "    </tr>\n",
       "  </thead>\n",
       "  <tbody>\n",
       "    <tr>\n",
       "      <th>0</th>\n",
       "      <td>1</td>\n",
       "      <td>AAKKPR</td>\n",
       "      <td>NLS</td>\n",
       "      <td>Potential</td>\n",
       "      <td>2</td>\n",
       "      <td>2</td>\n",
       "      <td>In Silico Mutagenesis</td>\n",
       "      <td>2017-10-11 15:10:55</td>\n",
       "      <td>2017-10-11 15:10:55</td>\n",
       "    </tr>\n",
       "    <tr>\n",
       "      <th>1</th>\n",
       "      <td>2</td>\n",
       "      <td>AAKKQK</td>\n",
       "      <td>NLS</td>\n",
       "      <td>Potential</td>\n",
       "      <td>3</td>\n",
       "      <td>3</td>\n",
       "      <td>In Silico Mutagenesis</td>\n",
       "      <td>2017-10-11 15:10:55</td>\n",
       "      <td>2017-10-11 15:10:55</td>\n",
       "    </tr>\n",
       "    <tr>\n",
       "      <th>2</th>\n",
       "      <td>3</td>\n",
       "      <td>AAKKTK</td>\n",
       "      <td>NLS</td>\n",
       "      <td>Potential</td>\n",
       "      <td>2</td>\n",
       "      <td>2</td>\n",
       "      <td>In Silico Mutagenesis</td>\n",
       "      <td>2017-10-11 15:10:55</td>\n",
       "      <td>2017-10-11 15:10:55</td>\n",
       "    </tr>\n",
       "    <tr>\n",
       "      <th>3</th>\n",
       "      <td>4</td>\n",
       "      <td>AAKRRL</td>\n",
       "      <td>NLS</td>\n",
       "      <td>Potential</td>\n",
       "      <td>3</td>\n",
       "      <td>3</td>\n",
       "      <td>In Silico Mutagenesis</td>\n",
       "      <td>2017-10-11 15:10:55</td>\n",
       "      <td>2017-10-11 15:10:55</td>\n",
       "    </tr>\n",
       "    <tr>\n",
       "      <th>4</th>\n",
       "      <td>5</td>\n",
       "      <td>AEKKAK</td>\n",
       "      <td>NLS</td>\n",
       "      <td>Potential</td>\n",
       "      <td>5</td>\n",
       "      <td>3</td>\n",
       "      <td>In Silico Mutagenesis</td>\n",
       "      <td>2017-10-11 15:10:55</td>\n",
       "      <td>2017-10-11 15:10:55</td>\n",
       "    </tr>\n",
       "  </tbody>\n",
       "</table>\n",
       "</div>"
      ],
      "text/plain": [
       "   ID Sequence SignalType AnnotationType  ConfidenceNuc  ConfidenceFam  \\\n",
       "0   1   AAKKPR        NLS      Potential              2              2   \n",
       "1   2   AAKKQK        NLS      Potential              3              3   \n",
       "2   3   AAKKTK        NLS      Potential              2              2   \n",
       "3   4   AAKRRL        NLS      Potential              3              3   \n",
       "4   5   AEKKAK        NLS      Potential              5              3   \n",
       "\n",
       "                  Origin                Added             Modified  \n",
       "0  In Silico Mutagenesis  2017-10-11 15:10:55  2017-10-11 15:10:55  \n",
       "1  In Silico Mutagenesis  2017-10-11 15:10:55  2017-10-11 15:10:55  \n",
       "2  In Silico Mutagenesis  2017-10-11 15:10:55  2017-10-11 15:10:55  \n",
       "3  In Silico Mutagenesis  2017-10-11 15:10:55  2017-10-11 15:10:55  \n",
       "4  In Silico Mutagenesis  2017-10-11 15:10:55  2017-10-11 15:10:55  "
      ]
     },
     "execution_count": 80,
     "metadata": {},
     "output_type": "execute_result"
    }
   ],
   "source": [
    "# df_MB_full.head()\n",
    "# df_MB_select_org.head()\n",
    "df_NLSdb.head()"
   ]
  },
  {
   "cell_type": "markdown",
   "id": "03576633-abe0-4ed3-8b03-6e15467afb8d",
   "metadata": {},
   "source": [
    "### Make a dictionauniqueith NLS seq and its origin so the analysis below can be faster"
   ]
  },
  {
   "cell_type": "code",
   "execution_count": 82,
   "id": "8a8a0f48-dc02-4fd5-b75e-1dcc0bd34bdd",
   "metadata": {},
   "outputs": [],
   "source": [
    "df_NLS = df_NLSdb[df_NLSdb['SignalType'] == 'NLS'] # exclude NES\n",
    "dict_NLS = dict(zip(df_NLS['Sequence'], df_NLS['Origin']))"
   ]
  },
  {
   "cell_type": "code",
   "execution_count": 83,
   "id": "c6d0c153-e058-439d-a2cd-304ee6691792",
   "metadata": {},
   "outputs": [
    {
     "name": "stdout",
     "output_type": "stream",
     "text": [
      "2253\n"
     ]
    }
   ],
   "source": [
    "print(len(dict_NLS))"
   ]
  },
  {
   "cell_type": "markdown",
   "id": "54d1f9cd-712d-46f3-8a81-e268b528f81e",
   "metadata": {},
   "source": [
    "## 2. Search for proteins with putative NLSs"
   ]
  },
  {
   "cell_type": "markdown",
   "id": "349ef756-9abf-41d0-89bb-3e67e0ed93c3",
   "metadata": {},
   "source": [
    "### A funciton to find NLS(s) in a given protein sequence"
   ]
  },
  {
   "cell_type": "code",
   "execution_count": 84,
   "id": "0c81f094-e253-430b-a377-c46e0c6027b6",
   "metadata": {},
   "outputs": [],
   "source": [
    "def searchNLS(protein_seq):\n",
    "    NLS_type = dict() # for storing hit NLS and its origin\n",
    "    \n",
    "    for NLS, NLS_origin in dict_NLS.items():\n",
    "               \n",
    "        # search for NLS in a protein seq\n",
    "        position = protein_seq.find(NLS)\n",
    "        \n",
    "        # if the NLS found, append NLS position and type to a dictionary\n",
    "        if position != -1:\n",
    "            NLS_type[NLS] = NLS_origin\n",
    "        \n",
    "    return  NLS_type"
   ]
  },
  {
   "cell_type": "markdown",
   "id": "2582476f-e7d0-4083-af1c-a34590c06e12",
   "metadata": {},
   "source": [
    "### Application of searchNLS to protein sequence in MemBrain result"
   ]
  },
  {
   "cell_type": "code",
   "execution_count": 85,
   "id": "b6c4811c-5cab-41c5-92b5-408c43a36e34",
   "metadata": {},
   "outputs": [],
   "source": [
    "df_MB_select_org['NLS found'] = df_MB_select_org['AA_sequence'].apply(searchNLS)"
   ]
  },
  {
   "cell_type": "code",
   "execution_count": 86,
   "id": "5101b156-9fda-425a-80ea-8d81c8b6dcea",
   "metadata": {},
   "outputs": [
    {
     "name": "stdout",
     "output_type": "stream",
     "text": [
      "<class 'pandas.core.frame.DataFrame'>\n",
      "RangeIndex: 3240 entries, 0 to 3239\n",
      "Data columns (total 7 columns):\n",
      " #   Column        Non-Null Count  Dtype \n",
      "---  ------        --------------  ----- \n",
      " 0   Uniprot_ID    3240 non-null   object\n",
      " 1   Organism      3240 non-null   object\n",
      " 2   Protein_name  3240 non-null   object\n",
      " 3   AH_or_Not     3240 non-null   object\n",
      " 4   AA_sequence   3240 non-null   object\n",
      " 5   Prediction    3240 non-null   object\n",
      " 6   NLS found     3240 non-null   object\n",
      "dtypes: object(7)\n",
      "memory usage: 177.3+ KB\n"
     ]
    }
   ],
   "source": [
    "df_MB_select_org.info()"
   ]
  },
  {
   "cell_type": "markdown",
   "id": "6936cb1b-83ab-491f-805f-92efa2366e8d",
   "metadata": {},
   "source": [
    "### Sort proteins with NLS found"
   ]
  },
  {
   "cell_type": "code",
   "execution_count": 124,
   "id": "b5012062-8df7-4ff8-81d4-0321c241f629",
   "metadata": {},
   "outputs": [],
   "source": [
    "df_MB_select_org_NLS_positive = df_MB_select_org[df_MB_select_org['NLS found'] != {}]"
   ]
  },
  {
   "cell_type": "code",
   "execution_count": 125,
   "id": "09b4bf94-b42e-4042-b409-1a30667d62bc",
   "metadata": {},
   "outputs": [
    {
     "name": "stdout",
     "output_type": "stream",
     "text": [
      "<class 'pandas.core.frame.DataFrame'>\n",
      "Int64Index: 202 entries, 32 to 3209\n",
      "Data columns (total 7 columns):\n",
      " #   Column        Non-Null Count  Dtype \n",
      "---  ------        --------------  ----- \n",
      " 0   Uniprot_ID    202 non-null    object\n",
      " 1   Organism      202 non-null    object\n",
      " 2   Protein_name  202 non-null    object\n",
      " 3   AH_or_Not     202 non-null    object\n",
      " 4   AA_sequence   202 non-null    object\n",
      " 5   Prediction    202 non-null    object\n",
      " 6   NLS found     202 non-null    object\n",
      "dtypes: object(7)\n",
      "memory usage: 12.6+ KB\n"
     ]
    }
   ],
   "source": [
    "df_MB_select_org_NLS_positive.info()"
   ]
  },
  {
   "cell_type": "markdown",
   "id": "5d286616-4bb4-484b-9bd4-0132e56cb405",
   "metadata": {},
   "source": [
    "## 3. Understand how many NLS found in each organism"
   ]
  },
  {
   "cell_type": "code",
   "execution_count": 89,
   "id": "43a2c400-e9fe-4ff3-84bb-6d7909ae0c1e",
   "metadata": {},
   "outputs": [],
   "source": [
    "size_NLS = df_MB_select_org_NLS_positive.groupby('Organism').size()\n",
    "size_whole = df_MB_select_org.groupby('Organism').size()"
   ]
  },
  {
   "cell_type": "code",
   "execution_count": 90,
   "id": "464b25d6-e4a2-401e-9b45-8794f72bbd77",
   "metadata": {},
   "outputs": [],
   "source": [
    "df_ratio = pd.DataFrame({'NLS': pd.Series(size_NLS), 'Whole': pd.Series(size_whole)})"
   ]
  },
  {
   "cell_type": "markdown",
   "id": "60b6821b-d57d-4981-baa7-ce0fe00222b6",
   "metadata": {},
   "source": [
    "### As shown below, the NLS protein frequency is in 2-10%"
   ]
  },
  {
   "cell_type": "code",
   "execution_count": 94,
   "id": "528b6640-18e5-48ff-a391-aef6e4a62ad5",
   "metadata": {},
   "outputs": [],
   "source": [
    "df_ratio['Ratio'] = df_ratio['NLS'] / df_ratio['Whole']\n",
    "df_ratio = df_ratio.sort_values(by='Ratio', ascending=False)"
   ]
  },
  {
   "cell_type": "code",
   "execution_count": 97,
   "id": "9360d191-4cda-47fb-804d-ef8871b37e81",
   "metadata": {},
   "outputs": [],
   "source": [
    "import matplotlib.pyplot as plt\n",
    "import seaborn as sns"
   ]
  },
  {
   "cell_type": "code",
   "execution_count": 108,
   "id": "29d0a46e-f24f-495d-8d93-cbf0a692b4db",
   "metadata": {},
   "outputs": [
    {
     "data": {
      "text/plain": [
       "Text(0.5, 1.0, 'NLS ratio (organisms with >10 proteins)')"
      ]
     },
     "execution_count": 108,
     "metadata": {},
     "output_type": "execute_result"
    },
    {
     "data": {
      "image/png": "[encoded data removed]",
      "text/plain": [
       "<Figure size 720x360 with 2 Axes>"
      ]
     },
     "metadata": {
      "needs_background": "light"
     },
     "output_type": "display_data"
    }
   ],
   "source": [
    "plt.figure(figsize=(10, 5))\n",
    "plt.subplot(121)\n",
    "scatter = sns.scatterplot(data=df_ratio, x=df_ratio['Whole'], y=df_ratio['Ratio'])\n",
    "plt.title('NLS ratio')\n",
    "\n",
    "plt.subplot(122)\n",
    "scatter = sns.scatterplot(data=df_ratio[df_ratio['Whole'] > 10], x=df_ratio[df_ratio['Whole'] > 10]['Whole'], y=df_ratio[df_ratio['Whole'] > 10]['Ratio'])\n",
    "plt.title('NLS ratio (organisms with >10 proteins)')"
   ]
  },
  {
   "cell_type": "markdown",
   "id": "392502b3-8ae6-491b-b2d9-77655904eabb",
   "metadata": {},
   "source": [
    "## 4. Label the NLS in each protein whether in silico mutagenesis only or not"
   ]
  },
  {
   "cell_type": "code",
   "execution_count": 121,
   "id": "6191fbdf-9048-4585-b180-dfc23f81f1ed",
   "metadata": {},
   "outputs": [],
   "source": [
    "def judge_insilico(dict_NLS):\n",
    "    NLS_evidence = 0\n",
    "    for v in dict_NLS.values():\n",
    "        if v != 'In Silico Mutagenesis':\n",
    "            NLS_evidence = 1\n",
    "            break\n",
    "\n",
    "    return NLS_evidence"
   ]
  },
  {
   "cell_type": "code",
   "execution_count": 126,
   "id": "c59f094f-5b4a-41d5-87b2-3c9a635acdca",
   "metadata": {},
   "outputs": [
    {
     "name": "stderr",
     "output_type": "stream",
     "text": [
      "<ipython-input-126-75d5125513e1>:1: SettingWithCopyWarning: \n",
      "A value is trying to be set on a copy of a slice from a DataFrame.\n",
      "Try using .loc[row_indexer,col_indexer] = value instead\n",
      "\n",
      "See the caveats in the documentation: https://pandas.pydata.org/pandas-docs/stable/user_guide/indexing.html#returning-a-view-versus-a-copy\n",
      "  df_MB_select_org_NLS_positive['NLS_data_evidence'] = df_MB_select_org_NLS_positive['NLS found'].apply(judge_insilico)\n"
     ]
    }
   ],
   "source": [
    "df_MB_select_org_NLS_positive['NLS_data_evidence'] = df_MB_select_org_NLS_positive['NLS found'].apply(judge_insilico)"
   ]
  },
  {
   "cell_type": "code",
   "execution_count": 130,
   "id": "676dfcf7-85f7-49ce-83f3-579367445bd2",
   "metadata": {
    "tags": []
   },
   "outputs": [],
   "source": [
    "# df_MB_select_org_NLS_positive[df_MB_select_org_NLS_positive.NLS_data_evidence == 1]"
   ]
  },
  {
   "cell_type": "markdown",
   "id": "0874d9e9-29b6-490c-9124-229a5602b40a",
   "metadata": {},
   "source": [
    "## 5. Export"
   ]
  },
  {
   "cell_type": "code",
   "execution_count": 129,
   "id": "dfff91bc-c863-4771-9ad8-224524c6a7fa",
   "metadata": {},
   "outputs": [],
   "source": [
    "df_MB_select_org_NLS_positive.to_csv('./FinalOutput/MemBrain_select_organism_NLSdb_found.csv', index=False)"
   ]
  },
  {
   "cell_type": "code",
   "execution_count": null,
   "id": "95b803ff-9d7a-48e6-a3d6-000be53531dd",
   "metadata": {},
   "outputs": [],
   "source": []
  }
 ],
 "metadata": {
  "kernelspec": {
   "display_name": "Python 3",
   "language": "python",
   "name": "python3"
  },
  "language_info": {
   "codemirror_mode": {
    "name": "ipython",
    "version": 3
   },
   "file_extension": ".py",
   "mimetype": "text/x-python",
   "name": "python",
   "nbconvert_exporter": "python",
   "pygments_lexer": "ipython3",
   "version": "3.8.8"
  }
 },
 "nbformat": 4,
 "nbformat_minor": 5
}
